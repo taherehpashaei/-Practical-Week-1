{
 "cells": [
  {
   "cell_type": "code",
   "execution_count": 5,
   "id": "7dcf2953-942c-4454-b7c3-2d326eb2ed79",
   "metadata": {},
   "outputs": [
    {
     "name": "stdout",
     "output_type": "stream",
     "text": [
      "Training set size: (549, 31)\n",
      "Validation set size: (10, 31)\n",
      "Test set size: (10, 31)\n",
      "Silly Rule Accuracy on Validation Set: 0.4\n",
      "Sensible Rule Accuracy on Validation Set: 0.0\n",
      "Sophisticated Rule Accuracy on Validation Set: 0.4\n",
      "Final Rule Accuracy on Test Set: 0.4\n"
     ]
    }
   ],
   "source": [
    "#  Import necessary libraries\n",
    "\n",
    "from sklearn.datasets import load_breast_cancer  # Load the dataset\n",
    "from sklearn.model_selection import train_test_split  # For splitting the data\n",
    "import pandas as pd  # For creating and manipulating dataframes\n",
    "import numpy as np  # For numerical operations\n",
    "\n",
    "# Set a seed for reproducibility\n",
    "\n",
    "SEED = 42  # Ensures that the splits are the same every time you run the code\n",
    "\n",
    "# Load the breast cancer dataset\n",
    "\n",
    "cancer_data = load_breast_cancer()\n",
    "\n",
    "# Create a DataFrame with feature names\n",
    "\n",
    "df = pd.DataFrame(cancer_data.data, columns=cancer_data.feature_names)\n",
    "\n",
    "# Add the target variable to the DataFrame\n",
    "\n",
    "df['target'] = cancer_data.target\n",
    "\n",
    "# Split the data into training (60%), validation (20%), and test (20%) sets\n",
    "\n",
    "train_df, temp_df = train_test_split(df, test_size=20, random_state=SEED)\n",
    "val_df, test_df = train_test_split(temp_df, test_size=0.5, random_state=SEED)\n",
    "\n",
    "# Display the sizes of the resulting dataframes\n",
    "\n",
    "print(\"Training set size:\", train_df.shape)\n",
    "print(\"Validation set size:\", val_df.shape)\n",
    "print(\"Test set size:\", test_df.shape)\n",
    "\n",
    "\n",
    "# Round 1: Silly Rule\n",
    "def silly_rule(row):\n",
    "    return 1 if row.name % 2 == 1 else 0  # If index is odd, classify as malignant\n",
    "\n",
    "val_df['pred_silly'] = val_df.apply(silly_rule, axis=1)\n",
    "silly_accuracy = (val_df['pred_silly'] == val_df['target']).mean()\n",
    "print(\"Silly Rule Accuracy on Validation Set:\", silly_accuracy)\n",
    "\n",
    "# Round 2: Sensible Rule\n",
    "def sensible_rule(row):\n",
    "    return 1 if row['mean radius'] > 15 else 0  # If mean radius > 15, classify as malignant\n",
    "\n",
    "val_df['pred_sensible'] = val_df.apply(sensible_rule, axis=1)\n",
    "sensible_accuracy = (val_df['pred_sensible'] == val_df['target']).mean()\n",
    "print(\"Sensible Rule Accuracy on Validation Set:\", sensible_accuracy)\n",
    "\n",
    "# Round 3: More Sophisticated Rule\n",
    "def sophisticated_rule(row):\n",
    "    return 1 if row['mean radius'] > 14 and row['mean texture'] < 20 else 0  # Using multiple features\n",
    "\n",
    "val_df['pred_sophisticated'] = val_df.apply(sophisticated_rule, axis=1)\n",
    "sophisticated_accuracy = (val_df['pred_sophisticated'] == val_df['target']).mean()\n",
    "print(\"Sophisticated Rule Accuracy on Validation Set:\", sophisticated_accuracy)\n",
    "\n",
    "# Final Rule Selection (Best performing rule)\n",
    "final_rule = sophisticated_rule\n",
    "\n",
    "test_df['pred_final'] = test_df.apply(final_rule, axis=1)\n",
    "test_accuracy = (test_df['pred_final'] == test_df['target']).mean()\n",
    "print(\"Final Rule Accuracy on Test Set:\", test_accuracy)\n"
   ]
  },
  {
   "cell_type": "code",
   "execution_count": null,
   "id": "47aa5f6a-2965-4072-a498-e27879dbf690",
   "metadata": {},
   "outputs": [],
   "source": []
  },
  {
   "cell_type": "code",
   "execution_count": null,
   "id": "fd99a4db-e03d-4c5e-ad7c-7ed86e1c6334",
   "metadata": {},
   "outputs": [],
   "source": []
  }
 ],
 "metadata": {
  "kernelspec": {
   "display_name": "Python [conda env:base] *",
   "language": "python",
   "name": "conda-base-py"
  },
  "language_info": {
   "codemirror_mode": {
    "name": "ipython",
    "version": 3
   },
   "file_extension": ".py",
   "mimetype": "text/x-python",
   "name": "python",
   "nbconvert_exporter": "python",
   "pygments_lexer": "ipython3",
   "version": "3.12.7"
  }
 },
 "nbformat": 4,
 "nbformat_minor": 5
}
