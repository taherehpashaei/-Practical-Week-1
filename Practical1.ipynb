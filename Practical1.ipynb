{
 "cells": [
  {
   "cell_type": "code",
   "execution_count": null,
   "id": "4e222e7a-25df-4a39-9b90-ef0bae7549ea",
   "metadata": {},
   "outputs": [],
   "source": [
    "#  Import necessary libraries\n",
    "\n",
    "from sklearn.datasets import load_breast_cancer  # Load the dataset\n",
    "from sklearn.model_selection import train_test_split  # For splitting the data\n",
    "import pandas as pd  # For creating and manipulating dataframes\n",
    "import numpy as np  # For numerical operations\n",
    "\n",
    "# Set a seed for reproducibility\n",
    "\n",
    "SEED = 42  # Ensures that the splits are the same every time you run the code\n",
    "\n",
    "# Load the breast cancer dataset\n",
    "\n",
    "cancer_data = load_breast_cancer()\n",
    "\n",
    "# Create a DataFrame with feature names\n",
    "\n",
    "df = pd.DataFrame(cancer_data.data, columns=cancer_data.feature_names)\n",
    "\n",
    "# Add the target variable to the DataFrame\n",
    "\n",
    "df['target'] = cancer_data.target\n",
    "\n",
    "# Split the data into training (60%), validation (20%), and test (20%) sets\n",
    "\n",
    "train_df, temp_df = train_test_split(df, test_size=20, random_state=SEED)\n",
    "val_df, test_df = train_test_split(temp_df, test_size=0.5, random_state=SEED)\n",
    "\n",
    "# Display the sizes of the resulting dataframes\n",
    "\n",
    "print(\"Training set size:\", train_df.shape)\n",
    "print(\"Validation set size:\", val_df.shape)\n",
    "print(\"Test set size:\", test_df.shape)"
   ]
  }
 ],
 "metadata": {
  "kernelspec": {
   "display_name": "Python 3 (ipykernel)",
   "language": "python",
   "name": "python3"
  },
  "language_info": {
   "codemirror_mode": {
    "name": "ipython",
    "version": 3
   },
   "file_extension": ".py",
   "mimetype": "text/x-python",
   "name": "python",
   "nbconvert_exporter": "python",
   "pygments_lexer": "ipython3",
   "version": "3.11.6"
  }
 },
 "nbformat": 4,
 "nbformat_minor": 5
}
